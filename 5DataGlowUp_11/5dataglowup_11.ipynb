{
 "cells": [
  {
   "cell_type": "code",
   "execution_count": 1,
   "id": "10b4e488",
   "metadata": {
    "ExecuteTime": {
     "end_time": "2023-05-15T20:13:20.465756Z",
     "start_time": "2023-05-15T20:13:19.776715Z"
    }
   },
   "outputs": [],
   "source": [
    "import pandas as pd\n",
    "import numpy as np\n",
    "\n",
    "df_2014 = pd.read_csv('data/brasileirao_2014_2018.txt', sep = ',')\n",
    "df_2019 = pd.read_csv('data/brasileirao_2019_2022.txt', sep = ',')"
   ]
  },
  {
   "cell_type": "code",
   "execution_count": 2,
   "id": "958e4f64",
   "metadata": {
    "ExecuteTime": {
     "end_time": "2023-05-15T20:13:20.481735Z",
     "start_time": "2023-05-15T20:13:20.467714Z"
    }
   },
   "outputs": [
    {
     "data": {
      "text/plain": [
       "Index(['Rk', 'Squad', 'MP', 'W', 'D', 'L', 'GF', 'GA', 'GD', 'Pts', 'Pts/MP',\n",
       "       'xG', 'xGA', 'xGD', 'xGD/90', 'MP.1', 'W.1', 'D.1', 'L.1', 'GF.1',\n",
       "       'GA.1', 'GD.1', 'Pts.1', 'Pts/MP.1', 'xG.1', 'xGA.1', 'xGD.1',\n",
       "       'xGD/90.1'],\n",
       "      dtype='object')"
      ]
     },
     "execution_count": 2,
     "metadata": {},
     "output_type": "execute_result"
    }
   ],
   "source": [
    "df_2019.columns # verifica colunas"
   ]
  },
  {
   "cell_type": "code",
   "execution_count": 3,
   "id": "636bc2bd",
   "metadata": {
    "ExecuteTime": {
     "end_time": "2023-05-15T20:13:20.621482Z",
     "start_time": "2023-05-15T20:13:20.486713Z"
    }
   },
   "outputs": [],
   "source": [
    "# dropa colunas desnecessárias\n",
    "\n",
    "cols_drop_2019 = ['xG', 'xGA', 'xGD', 'xGD/90', 'xG.1', 'xGA.1', 'xGD.1', 'xGD/90.1']\n",
    "df_2019 = df_2019.drop(cols_drop_2019, axis = 1)"
   ]
  },
  {
   "cell_type": "code",
   "execution_count": 4,
   "id": "8cfb4b4b",
   "metadata": {
    "ExecuteTime": {
     "end_time": "2023-05-15T20:13:20.764619Z",
     "start_time": "2023-05-15T20:13:20.623419Z"
    }
   },
   "outputs": [
    {
     "data": {
      "text/html": [
       "<div>\n",
       "<style scoped>\n",
       "    .dataframe tbody tr th:only-of-type {\n",
       "        vertical-align: middle;\n",
       "    }\n",
       "\n",
       "    .dataframe tbody tr th {\n",
       "        vertical-align: top;\n",
       "    }\n",
       "\n",
       "    .dataframe thead th {\n",
       "        text-align: right;\n",
       "    }\n",
       "</style>\n",
       "<table border=\"1\" class=\"dataframe\">\n",
       "  <thead>\n",
       "    <tr style=\"text-align: right;\">\n",
       "      <th></th>\n",
       "      <th>index</th>\n",
       "      <th>Rk</th>\n",
       "      <th>Squad</th>\n",
       "      <th>MP</th>\n",
       "      <th>W</th>\n",
       "      <th>D</th>\n",
       "      <th>L</th>\n",
       "      <th>GF</th>\n",
       "      <th>GA</th>\n",
       "      <th>GD</th>\n",
       "      <th>...</th>\n",
       "      <th>Pts/MP</th>\n",
       "      <th>MP.1</th>\n",
       "      <th>W.1</th>\n",
       "      <th>D.1</th>\n",
       "      <th>L.1</th>\n",
       "      <th>GF.1</th>\n",
       "      <th>GA.1</th>\n",
       "      <th>GD.1</th>\n",
       "      <th>Pts.1</th>\n",
       "      <th>Pts/MP.1</th>\n",
       "    </tr>\n",
       "  </thead>\n",
       "  <tbody>\n",
       "    <tr>\n",
       "      <th>0</th>\n",
       "      <td>0</td>\n",
       "      <td>1</td>\n",
       "      <td>Cruzeiro</td>\n",
       "      <td>19</td>\n",
       "      <td>15</td>\n",
       "      <td>2</td>\n",
       "      <td>2</td>\n",
       "      <td>43</td>\n",
       "      <td>17</td>\n",
       "      <td>26</td>\n",
       "      <td>...</td>\n",
       "      <td>2.47</td>\n",
       "      <td>19</td>\n",
       "      <td>9</td>\n",
       "      <td>6</td>\n",
       "      <td>4</td>\n",
       "      <td>24</td>\n",
       "      <td>21</td>\n",
       "      <td>3</td>\n",
       "      <td>33</td>\n",
       "      <td>1.74</td>\n",
       "    </tr>\n",
       "    <tr>\n",
       "      <th>1</th>\n",
       "      <td>1</td>\n",
       "      <td>2</td>\n",
       "      <td>São Paulo</td>\n",
       "      <td>19</td>\n",
       "      <td>11</td>\n",
       "      <td>6</td>\n",
       "      <td>2</td>\n",
       "      <td>32</td>\n",
       "      <td>16</td>\n",
       "      <td>16</td>\n",
       "      <td>...</td>\n",
       "      <td>2.05</td>\n",
       "      <td>19</td>\n",
       "      <td>9</td>\n",
       "      <td>4</td>\n",
       "      <td>6</td>\n",
       "      <td>27</td>\n",
       "      <td>24</td>\n",
       "      <td>3</td>\n",
       "      <td>31</td>\n",
       "      <td>1.63</td>\n",
       "    </tr>\n",
       "    <tr>\n",
       "      <th>2</th>\n",
       "      <td>2</td>\n",
       "      <td>3</td>\n",
       "      <td>Internacional</td>\n",
       "      <td>19</td>\n",
       "      <td>15</td>\n",
       "      <td>0</td>\n",
       "      <td>4</td>\n",
       "      <td>37</td>\n",
       "      <td>16</td>\n",
       "      <td>21</td>\n",
       "      <td>...</td>\n",
       "      <td>2.37</td>\n",
       "      <td>19</td>\n",
       "      <td>6</td>\n",
       "      <td>6</td>\n",
       "      <td>7</td>\n",
       "      <td>16</td>\n",
       "      <td>25</td>\n",
       "      <td>-9</td>\n",
       "      <td>24</td>\n",
       "      <td>1.26</td>\n",
       "    </tr>\n",
       "    <tr>\n",
       "      <th>3</th>\n",
       "      <td>3</td>\n",
       "      <td>4</td>\n",
       "      <td>Corinthians</td>\n",
       "      <td>19</td>\n",
       "      <td>12</td>\n",
       "      <td>6</td>\n",
       "      <td>1</td>\n",
       "      <td>32</td>\n",
       "      <td>15</td>\n",
       "      <td>17</td>\n",
       "      <td>...</td>\n",
       "      <td>2.21</td>\n",
       "      <td>19</td>\n",
       "      <td>7</td>\n",
       "      <td>6</td>\n",
       "      <td>6</td>\n",
       "      <td>17</td>\n",
       "      <td>16</td>\n",
       "      <td>1</td>\n",
       "      <td>27</td>\n",
       "      <td>1.42</td>\n",
       "    </tr>\n",
       "    <tr>\n",
       "      <th>4</th>\n",
       "      <td>4</td>\n",
       "      <td>5</td>\n",
       "      <td>Atlético Mineiro</td>\n",
       "      <td>19</td>\n",
       "      <td>12</td>\n",
       "      <td>5</td>\n",
       "      <td>2</td>\n",
       "      <td>28</td>\n",
       "      <td>12</td>\n",
       "      <td>16</td>\n",
       "      <td>...</td>\n",
       "      <td>2.16</td>\n",
       "      <td>19</td>\n",
       "      <td>5</td>\n",
       "      <td>6</td>\n",
       "      <td>8</td>\n",
       "      <td>23</td>\n",
       "      <td>26</td>\n",
       "      <td>-3</td>\n",
       "      <td>21</td>\n",
       "      <td>1.11</td>\n",
       "    </tr>\n",
       "    <tr>\n",
       "      <th>...</th>\n",
       "      <td>...</td>\n",
       "      <td>...</td>\n",
       "      <td>...</td>\n",
       "      <td>...</td>\n",
       "      <td>...</td>\n",
       "      <td>...</td>\n",
       "      <td>...</td>\n",
       "      <td>...</td>\n",
       "      <td>...</td>\n",
       "      <td>...</td>\n",
       "      <td>...</td>\n",
       "      <td>...</td>\n",
       "      <td>...</td>\n",
       "      <td>...</td>\n",
       "      <td>...</td>\n",
       "      <td>...</td>\n",
       "      <td>...</td>\n",
       "      <td>...</td>\n",
       "      <td>...</td>\n",
       "      <td>...</td>\n",
       "      <td>...</td>\n",
       "    </tr>\n",
       "    <tr>\n",
       "      <th>175</th>\n",
       "      <td>75</td>\n",
       "      <td>16</td>\n",
       "      <td>Cuiabá</td>\n",
       "      <td>19</td>\n",
       "      <td>6</td>\n",
       "      <td>8</td>\n",
       "      <td>5</td>\n",
       "      <td>17</td>\n",
       "      <td>15</td>\n",
       "      <td>2</td>\n",
       "      <td>...</td>\n",
       "      <td>1.37</td>\n",
       "      <td>19</td>\n",
       "      <td>4</td>\n",
       "      <td>3</td>\n",
       "      <td>12</td>\n",
       "      <td>14</td>\n",
       "      <td>27</td>\n",
       "      <td>-13</td>\n",
       "      <td>15</td>\n",
       "      <td>0.79</td>\n",
       "    </tr>\n",
       "    <tr>\n",
       "      <th>176</th>\n",
       "      <td>76</td>\n",
       "      <td>17</td>\n",
       "      <td>Ceará</td>\n",
       "      <td>19</td>\n",
       "      <td>4</td>\n",
       "      <td>8</td>\n",
       "      <td>7</td>\n",
       "      <td>20</td>\n",
       "      <td>22</td>\n",
       "      <td>-2</td>\n",
       "      <td>...</td>\n",
       "      <td>1.05</td>\n",
       "      <td>19</td>\n",
       "      <td>3</td>\n",
       "      <td>8</td>\n",
       "      <td>8</td>\n",
       "      <td>14</td>\n",
       "      <td>19</td>\n",
       "      <td>-5</td>\n",
       "      <td>17</td>\n",
       "      <td>0.89</td>\n",
       "    </tr>\n",
       "    <tr>\n",
       "      <th>177</th>\n",
       "      <td>77</td>\n",
       "      <td>18</td>\n",
       "      <td>Atl Goianiense</td>\n",
       "      <td>19</td>\n",
       "      <td>6</td>\n",
       "      <td>5</td>\n",
       "      <td>8</td>\n",
       "      <td>22</td>\n",
       "      <td>23</td>\n",
       "      <td>-1</td>\n",
       "      <td>...</td>\n",
       "      <td>1.21</td>\n",
       "      <td>19</td>\n",
       "      <td>2</td>\n",
       "      <td>7</td>\n",
       "      <td>10</td>\n",
       "      <td>17</td>\n",
       "      <td>34</td>\n",
       "      <td>-17</td>\n",
       "      <td>13</td>\n",
       "      <td>0.68</td>\n",
       "    </tr>\n",
       "    <tr>\n",
       "      <th>178</th>\n",
       "      <td>78</td>\n",
       "      <td>19</td>\n",
       "      <td>Avaí</td>\n",
       "      <td>19</td>\n",
       "      <td>7</td>\n",
       "      <td>4</td>\n",
       "      <td>8</td>\n",
       "      <td>24</td>\n",
       "      <td>26</td>\n",
       "      <td>-2</td>\n",
       "      <td>...</td>\n",
       "      <td>1.32</td>\n",
       "      <td>19</td>\n",
       "      <td>2</td>\n",
       "      <td>4</td>\n",
       "      <td>13</td>\n",
       "      <td>10</td>\n",
       "      <td>34</td>\n",
       "      <td>-24</td>\n",
       "      <td>10</td>\n",
       "      <td>0.53</td>\n",
       "    </tr>\n",
       "    <tr>\n",
       "      <th>179</th>\n",
       "      <td>79</td>\n",
       "      <td>20</td>\n",
       "      <td>Juventude</td>\n",
       "      <td>19</td>\n",
       "      <td>2</td>\n",
       "      <td>9</td>\n",
       "      <td>8</td>\n",
       "      <td>18</td>\n",
       "      <td>27</td>\n",
       "      <td>-9</td>\n",
       "      <td>...</td>\n",
       "      <td>0.79</td>\n",
       "      <td>19</td>\n",
       "      <td>1</td>\n",
       "      <td>4</td>\n",
       "      <td>14</td>\n",
       "      <td>11</td>\n",
       "      <td>42</td>\n",
       "      <td>-31</td>\n",
       "      <td>7</td>\n",
       "      <td>0.37</td>\n",
       "    </tr>\n",
       "  </tbody>\n",
       "</table>\n",
       "<p>180 rows × 21 columns</p>\n",
       "</div>"
      ],
      "text/plain": [
       "     index  Rk             Squad  MP   W  D  L  GF  GA  GD  ...  Pts/MP  MP.1  \\\n",
       "0        0   1          Cruzeiro  19  15  2  2  43  17  26  ...    2.47    19   \n",
       "1        1   2         São Paulo  19  11  6  2  32  16  16  ...    2.05    19   \n",
       "2        2   3     Internacional  19  15  0  4  37  16  21  ...    2.37    19   \n",
       "3        3   4       Corinthians  19  12  6  1  32  15  17  ...    2.21    19   \n",
       "4        4   5  Atlético Mineiro  19  12  5  2  28  12  16  ...    2.16    19   \n",
       "..     ...  ..               ...  ..  .. .. ..  ..  ..  ..  ...     ...   ...   \n",
       "175     75  16            Cuiabá  19   6  8  5  17  15   2  ...    1.37    19   \n",
       "176     76  17             Ceará  19   4  8  7  20  22  -2  ...    1.05    19   \n",
       "177     77  18    Atl Goianiense  19   6  5  8  22  23  -1  ...    1.21    19   \n",
       "178     78  19              Avaí  19   7  4  8  24  26  -2  ...    1.32    19   \n",
       "179     79  20         Juventude  19   2  9  8  18  27  -9  ...    0.79    19   \n",
       "\n",
       "     W.1  D.1  L.1  GF.1  GA.1  GD.1  Pts.1  Pts/MP.1  \n",
       "0      9    6    4    24    21     3     33      1.74  \n",
       "1      9    4    6    27    24     3     31      1.63  \n",
       "2      6    6    7    16    25    -9     24      1.26  \n",
       "3      7    6    6    17    16     1     27      1.42  \n",
       "4      5    6    8    23    26    -3     21      1.11  \n",
       "..   ...  ...  ...   ...   ...   ...    ...       ...  \n",
       "175    4    3   12    14    27   -13     15      0.79  \n",
       "176    3    8    8    14    19    -5     17      0.89  \n",
       "177    2    7   10    17    34   -17     13      0.68  \n",
       "178    2    4   13    10    34   -24     10      0.53  \n",
       "179    1    4   14    11    42   -31      7      0.37  \n",
       "\n",
       "[180 rows x 21 columns]"
      ]
     },
     "execution_count": 4,
     "metadata": {},
     "output_type": "execute_result"
    }
   ],
   "source": [
    "df_concat = pd.concat([df_2014, df_2019]).reset_index() # junta dataframes\n",
    "df_concat"
   ]
  },
  {
   "cell_type": "code",
   "execution_count": 5,
   "id": "9eadbbd2",
   "metadata": {
    "ExecuteTime": {
     "end_time": "2023-05-15T20:13:20.874601Z",
     "start_time": "2023-05-15T20:13:20.767603Z"
    }
   },
   "outputs": [],
   "source": [
    "# cria coluna dos anos de cada campeonato\n",
    "\n",
    "df_concat['Year'] = 0\n",
    "\n",
    "# //: trunca o número como inteiro. Se usasse só / iria aumentar de 0.05 em 0.05, pois inicia em 1 e 1/20 = 0.05.\n",
    "years = [2014 + (i // 20) for i in range(len(df_concat))]\n",
    "\n",
    "df_concat.loc[:, 'Year'] = years"
   ]
  },
  {
   "cell_type": "code",
   "execution_count": 6,
   "id": "7a7f9665",
   "metadata": {
    "ExecuteTime": {
     "end_time": "2023-05-15T20:13:20.981344Z",
     "start_time": "2023-05-15T20:13:20.877539Z"
    }
   },
   "outputs": [
    {
     "data": {
      "text/plain": [
       "index       0\n",
       "Rk          0\n",
       "Squad       0\n",
       "MP          0\n",
       "W           0\n",
       "D           0\n",
       "L           0\n",
       "GF          0\n",
       "GA          0\n",
       "GD          0\n",
       "Pts         0\n",
       "Pts/MP      0\n",
       "MP.1        0\n",
       "W.1         0\n",
       "D.1         0\n",
       "L.1         0\n",
       "GF.1        0\n",
       "GA.1        0\n",
       "GD.1        0\n",
       "Pts.1       0\n",
       "Pts/MP.1    0\n",
       "Year        0\n",
       "dtype: int64"
      ]
     },
     "execution_count": 6,
     "metadata": {},
     "output_type": "execute_result"
    }
   ],
   "source": [
    "df_concat.isna().sum() # check NA"
   ]
  },
  {
   "cell_type": "code",
   "execution_count": 7,
   "id": "aea22339",
   "metadata": {
    "ExecuteTime": {
     "end_time": "2023-05-15T20:13:21.090593Z",
     "start_time": "2023-05-15T20:13:20.984344Z"
    }
   },
   "outputs": [
    {
     "data": {
      "text/plain": [
       "array(['Cruzeiro', 'São Paulo', 'Internacional', 'Corinthians',\n",
       "       'Atlético Mineiro', 'Fluminense', 'Grêmio', 'Atl Paranaense',\n",
       "       'Santos', 'Flamengo', 'Sport Recife', 'Goiás', 'Figueirense',\n",
       "       'Coritiba', 'Chapecoense', 'Palmeiras', 'Vitória', 'Bahia',\n",
       "       'Botafogo (RJ)', 'Criciúma', 'Ponte Preta', 'Avaí',\n",
       "       'Vasco da Gama', 'Joinville', 'Santa Cruz', 'América (MG)',\n",
       "       'Atl Goianiense', 'Ceará', 'Paraná', 'Fortaleza', 'CSA',\n",
       "       'Bragantino', 'Cuiabá', 'Juventude'], dtype=object)"
      ]
     },
     "execution_count": 7,
     "metadata": {},
     "output_type": "execute_result"
    }
   ],
   "source": [
    "df_concat['Squad'].unique() # check repetidos"
   ]
  },
  {
   "cell_type": "code",
   "execution_count": 8,
   "id": "92896435",
   "metadata": {
    "ExecuteTime": {
     "end_time": "2023-05-15T20:13:21.244983Z",
     "start_time": "2023-05-15T20:13:21.093569Z"
    }
   },
   "outputs": [],
   "source": [
    "# cria dataframes separados para resultados em casa e fora\n",
    "\n",
    "cols_drop_home = ['index', 'MP', 'W', 'D', 'L', 'GF', 'GA', 'GD', 'Pts', 'Pts/MP']\n",
    "cols_drop_away = ['index', 'MP.1', 'W.1', 'D.1', 'L.1', 'GF.1', 'GA.1', 'GD.1', 'Pts.1', 'Pts/MP.1']\n",
    "df_home = df_concat.drop(cols_drop_away, axis = 1)\n",
    "df_away = df_concat.drop(cols_drop_home, axis = 1)"
   ]
  },
  {
   "cell_type": "code",
   "execution_count": 9,
   "id": "5d15d9e4",
   "metadata": {
    "ExecuteTime": {
     "end_time": "2023-05-15T20:13:21.415923Z",
     "start_time": "2023-05-15T20:13:21.249967Z"
    }
   },
   "outputs": [],
   "source": [
    "# seleciona colunas\n",
    "\n",
    "df_concat = df_concat[['Year','Rk', 'Squad', 'MP', 'W', 'D', 'L', 'GF', 'GA', 'GD', 'Pts', 'Pts/MP', \n",
    "            'MP.1', 'W.1', 'D.1', 'L.1', 'GF.1', 'GA.1', 'GD.1', 'Pts.1', 'Pts/MP.1']]\n",
    "\n",
    "df_home = df_home[['Year','Rk', 'Squad', 'MP', 'W', 'D', 'L', 'GF', 'GA', 'GD', 'Pts', 'Pts/MP']]\n",
    "df_away = df_away[['Year','Rk', 'Squad', 'MP.1', 'W.1', 'D.1', 'L.1', 'GF.1', 'GA.1', 'GD.1', 'Pts.1', 'Pts/MP.1']]"
   ]
  },
  {
   "cell_type": "code",
   "execution_count": 10,
   "id": "5d350068",
   "metadata": {
    "ExecuteTime": {
     "end_time": "2023-05-15T20:13:21.557927Z",
     "start_time": "2023-05-15T20:13:21.418923Z"
    }
   },
   "outputs": [],
   "source": [
    "# renomeia colunas\n",
    "\n",
    "cols_new_df_concat = ['Ano', 'Pos', 'Clube',\n",
    "                      'Jc', 'Vc', 'Ec', 'Dc', 'GPc', 'GCc', 'SDc', 'Ptsc', 'Ptsc/Jc',\n",
    "                      'Jf', 'Vf', 'Ef', 'Df', 'GPf', 'GCf', 'SDf', 'Ptsf', 'Ptsf/Jf']\n",
    "df_concat.columns = cols_new_df_concat\n",
    "\n",
    "cols_new_df_home = ['Ano', 'Pos', 'Clube', 'Jc', 'Vc', 'Ec', 'Dc', 'GPc', 'GCc', 'SDc', 'Ptsc', 'Ptsc/Jc']\n",
    "df_home.columns = cols_new_df_home\n",
    "\n",
    "cols_new_df_away = ['Ano', 'Pos', 'Clube', 'Jf', 'Vf', 'Ef', 'Df', 'GPf', 'GCf', 'SDf', 'Ptsf', 'Ptsf/Jf']\n",
    "df_away.columns = cols_new_df_away"
   ]
  },
  {
   "cell_type": "code",
   "execution_count": 11,
   "id": "3b8ca894",
   "metadata": {
    "ExecuteTime": {
     "end_time": "2023-05-15T20:13:21.777496Z",
     "start_time": "2023-05-15T20:13:21.561925Z"
    }
   },
   "outputs": [],
   "source": [
    "# agrupa resultados fora e em casa\n",
    "\n",
    "df_total = df_concat.copy()\n",
    "\n",
    "df_total['J'] = df_total['Jc'] + df_total['Jf']\n",
    "df_total['V'] = df_total['Vc'] + df_total['Vf']\n",
    "df_total['E'] = df_total['Ec'] + df_total['Ef']\n",
    "df_total['D'] = df_total['Dc'] + df_total['Df']\n",
    "df_total['GP'] = df_total['GPc'] + df_total['GPf']\n",
    "df_total['GC'] = df_total['GCc'] + df_total['GCf']\n",
    "df_total['SD'] = df_total['SDc'] + df_total['SDf']\n",
    "df_total['Pts'] = df_total['Ptsc'] + df_total['Ptsf']\n",
    "df_total['Pts/J'] = (df_total['Ptsc/Jc'] + df_total['Ptsf/Jf'])/2\n",
    "\n",
    "df_full = df_total.copy() # tabelão\n",
    "df_total = df_total[['Ano', 'Pos', 'Clube', 'J', 'V', 'E', 'D', 'GP', 'GC', 'SD', 'Pts', 'Pts/J']]"
   ]
  },
  {
   "cell_type": "code",
   "execution_count": 12,
   "id": "9247cda9",
   "metadata": {
    "ExecuteTime": {
     "end_time": "2023-05-15T20:13:21.930810Z",
     "start_time": "2023-05-15T20:13:21.779483Z"
    }
   },
   "outputs": [],
   "source": [
    "# ajusta casas decimais\n",
    "\n",
    "df_total['Pts/J'] = np.round(df_total['Pts/J'], 2)\n",
    "df_home['Ptsc/Jc'] = np.round(df_home['Ptsc/Jc'], 2)\n",
    "df_away['Ptsf/Jf'] = np.round(df_away['Ptsf/Jf'], 2)\n",
    "df_full['Pts/J'] = np.round(df_full['Pts/J'], 2)"
   ]
  },
  {
   "cell_type": "code",
   "execution_count": 13,
   "id": "e5246dd9",
   "metadata": {
    "ExecuteTime": {
     "end_time": "2023-05-15T20:13:22.103992Z",
     "start_time": "2023-05-15T20:13:21.933766Z"
    }
   },
   "outputs": [],
   "source": [
    "# grava os csvs\n",
    "\n",
    "df_total.to_csv('data/df_total.csv', index = False)\n",
    "df_home.to_csv('data/df_home.csv', index = False)\n",
    "df_away.to_csv('data/df_away.csv', index = False)\n",
    "df_full.to_csv('data/df_full.csv', index = False)"
   ]
  },
  {
   "cell_type": "markdown",
   "id": "368ae74a",
   "metadata": {
    "ExecuteTime": {
     "end_time": "2023-05-15T01:55:22.811586Z",
     "start_time": "2023-05-15T01:55:22.703957Z"
    }
   },
   "source": [
    "Desafio: realizar uma análise de dados sobre futebol a partir de dados históricos disponíveis no site https://fbref.com/en/comps/24/history/Serie-A-Seasons.\n",
    "\n",
    "Passo a passo da solução:\n",
    "- 1. Coleta dos dados em formato .txt através da fonte.\n",
    "- 2. Concatenação dos arquivos .txt de cada ano de campeonato em um único arquivo .txt.\n",
    "- 3. Criação de hipóteses com base nos dados disponíveis.\n",
    "- 4. Limpeza dos dados e derivação de atributos usando o Python.\n",
    "- 5. Análise exploratória dos dados com o Power BI a partir de filtros interativos e segmentações.\n",
    "- 6. Validação das hipóteses geradas na etapa 3.\n",
    "\n",
    "Premissas:\n",
    "- A análise contempla exclusivamente o campeonato brasileiro série A. \n",
    "- A análise contempla exclusivamente as tabelas entre os anos de 2014 a 2022.\n",
    "- A análise destaca os resultados obtidos pelos clubes como mandante e como visitante.\n",
    "- A análise destaca os resultados dos 15 clubes de maior torcida do país segundo pesquisa do instituto AtlasIntel realizada em abril de 2023 (mais detalhes em: https://ge.globo.com/futebol/noticia/2023/04/25/maiores-torcidas-do-brasil-pesquisa-atlas-mostra-flamengo-corinthians-e-sao-paulo-no-top-3.ghtml).\n",
    "\n",
    "Hipóteses relacionadas aos pontos ganhos dos clubes:\n",
    "- 1. Todo ano o clube que mais pontua como visitante é campeão: verdadeira.\n",
    "- 2. Todo ano o clube que mais pontua como mandante é campeão: falsa. Em 2016 o clube que mais pontuou como mandante foi o Santos (47) e o campeão foi o Palmeiras, em 2020 foi o Atlético Mineiro (46) e o campeão foi o Flamengo e em 2022 foi o Internacional (44) e o campeão foi o Palmeiras.\n",
    "- 3. O clube que mais somou pontos no geral é o clube que mais vezes foi campeão: verdadeira. Palmeiras é o clube com mais títulos (3) e mais pontos somados no geral (595).\n",
    "- 4. O clube que mais somou pontos como visitante é o clube que mais vezes foi campeão: verdadeira. Palmeiras é o clube com mais títulos (3) e mais pontos somados como visitante (247).\n",
    "\n",
    "Hipóteses relacionadas às vitórias dos clubes:\n",
    "- 5. Todo ano o clube que mais vence é campeão: verdadeira.\n",
    "- 6. O clube que mais venceu no geral é o clube que mais vezes foi campeão: falsa. O Flamengo é o clube com mais vitórias no geral (173) e o Palmeiras é o clube com mais títulos (3).\n",
    "\n",
    "Hipóteses relacionadas aos empates dos clubes:\n",
    "- 7. O clube que mais empatou no geral nunca foi campeão: verdadeira. O São Paulo é o clube que mais empatou (108).\n",
    "- 8. O clube campeão do ano nunca ficou entre os 5 clubes que mais empataram: verdadeira. O Palmeiras de 2022 foi o campeão que mais chegou próximo de ficar entre 5 clubes que mais empataram, ficando na 8ª posição.\n",
    "- 9. O clube campeão do ano nunca empatou mais de 10 vezes: falsa. O Palmeiras em 2018 e em 2022 ultrapassou a marca, fazendo 11 e 12 empates respectivamente.\n",
    "\n",
    "Hipóteses relacionadas aos gols dos clubes:\n",
    "- 10. O clube com maior saldo de gols é o clube com mais títulos: falsa. O flamengo é o clube com maior saldo de gols (172) e o Palmeiras é clube com mais títulos (3).\n",
    "- 11. O clube com mais gols marcados é o clube com mais títulos: falsa. O flamengo é o clube com mais gols marcados (534) e o Palmeiras é o clube com mais títulos (3).\n"
   ]
  }
 ],
 "metadata": {
  "hide_input": false,
  "kernelspec": {
   "display_name": "Python 3 (ipykernel)",
   "language": "python",
   "name": "python3"
  },
  "language_info": {
   "codemirror_mode": {
    "name": "ipython",
    "version": 3
   },
   "file_extension": ".py",
   "mimetype": "text/x-python",
   "name": "python",
   "nbconvert_exporter": "python",
   "pygments_lexer": "ipython3",
   "version": "3.9.16"
  }
 },
 "nbformat": 4,
 "nbformat_minor": 5
}
